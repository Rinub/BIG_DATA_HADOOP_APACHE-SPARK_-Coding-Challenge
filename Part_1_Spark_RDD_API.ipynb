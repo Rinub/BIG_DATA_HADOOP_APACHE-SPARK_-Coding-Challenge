{
  "nbformat": 4,
  "nbformat_minor": 0,
  "metadata": {
    "colab": {
      "provenance": []
    },
    "kernelspec": {
      "name": "python3",
      "display_name": "Python 3"
    },
    "language_info": {
      "name": "python"
    }
  },
  "cells": [
    {
      "cell_type": "code",
      "source": [
        "# from google.colab import drive\n",
        "# drive.mount('/content/drive')"
      ],
      "metadata": {
        "id": "N5gHi9jzhlFU"
      },
      "execution_count": 1,
      "outputs": []
    },
    {
      "cell_type": "code",
      "execution_count": 2,
      "metadata": {
        "colab": {
          "base_uri": "https://localhost:8080/"
        },
        "id": "Yr5NYNsPos65",
        "outputId": "58eb3cc6-b0ad-457f-e7ea-cf9e032ee894"
      },
      "outputs": [
        {
          "output_type": "stream",
          "name": "stdout",
          "text": [
            "Looking in indexes: https://pypi.org/simple, https://us-python.pkg.dev/colab-wheels/public/simple/\n",
            "Collecting pyspark\n",
            "  Downloading pyspark-3.3.2.tar.gz (281.4 MB)\n",
            "\u001b[2K     \u001b[90m━━━━━━━━━━━━━━━━━━━━━━━━━━━━━━━━━━━━━━━\u001b[0m \u001b[32m281.4/281.4 MB\u001b[0m \u001b[31m4.9 MB/s\u001b[0m eta \u001b[36m0:00:00\u001b[0m\n",
            "\u001b[?25h  Preparing metadata (setup.py) ... \u001b[?25l\u001b[?25hdone\n",
            "Collecting py4j==0.10.9.5\n",
            "  Downloading py4j-0.10.9.5-py2.py3-none-any.whl (199 kB)\n",
            "\u001b[2K     \u001b[90m━━━━━━━━━━━━━━━━━━━━━━━━━━━━━━━━━━━━━━\u001b[0m \u001b[32m199.7/199.7 KB\u001b[0m \u001b[31m18.6 MB/s\u001b[0m eta \u001b[36m0:00:00\u001b[0m\n",
            "\u001b[?25hBuilding wheels for collected packages: pyspark\n",
            "  Building wheel for pyspark (setup.py) ... \u001b[?25l\u001b[?25hdone\n",
            "  Created wheel for pyspark: filename=pyspark-3.3.2-py2.py3-none-any.whl size=281824025 sha256=4bc5f42c64961e5fefbed60f6acafe8372e832ecd2f4e160e2014e2d84e589ec\n",
            "  Stored in directory: /root/.cache/pip/wheels/6c/e3/9b/0525ce8a69478916513509d43693511463c6468db0de237c86\n",
            "Successfully built pyspark\n",
            "Installing collected packages: py4j, pyspark\n",
            "Successfully installed py4j-0.10.9.5 pyspark-3.3.2\n"
          ]
        }
      ],
      "source": [
        "# Install pyspark\n",
        "!pip install pyspark"
      ]
    },
    {
      "cell_type": "code",
      "source": [
        "# task 1_1.py\n",
        "\n",
        "from pyspark import SparkConf, SparkContext\n",
        "import requests\n",
        "conf = SparkConf().setAppName(\"GroceriesData\")\n",
        "sc = SparkContext.getOrCreate(conf)\n",
        "\n",
        "def load_groceries_data(link_csv = 'https://raw.githubusercontent.com/stedy/Machine-Learning-with-R-datasets/master/groceries.csv'):\n",
        "\n",
        "  \"\"\"  \n",
        "  This function loads the csv file to spark rdd api.\n",
        "  Args: \n",
        "    link_csv: input file path mapped from github \n",
        "  Returns:\n",
        "    This function returns spark rdd api variable\n",
        "  \"\"\"\n",
        "\n",
        "  groceries_data_rdd = sc.parallelize(requests.get(link_csv).text.split(\"\\n\"))\n",
        "  return groceries_data_rdd\n",
        "\n",
        "load_groceries_data()\n"
      ],
      "metadata": {
        "colab": {
          "base_uri": "https://localhost:8080/"
        },
        "id": "4SM9rLZygi2X",
        "outputId": "2d88b567-9b59-4b77-b63d-595868a1db66"
      },
      "execution_count": 3,
      "outputs": [
        {
          "output_type": "execute_result",
          "data": {
            "text/plain": [
              "ParallelCollectionRDD[0] at readRDDFromFile at PythonRDD.scala:274"
            ]
          },
          "metadata": {},
          "execution_count": 3
        }
      ]
    },
    {
      "cell_type": "code",
      "source": [
        "# task 1_2.py\n",
        "# Tash 2\n",
        "# =========\n",
        "from pyspark import SparkConf, SparkContext\n",
        "import requests\n",
        "conf = SparkConf().setAppName(\"GroceriesData\")\n",
        "sc = SparkContext.getOrCreate(conf)\n",
        "\n",
        "def write_out_1_2ab(write_path_1_2a = 'out/out_1_2a.txt', write_path_1_2b ='out/out_1_2b.txt'):\n",
        "\n",
        "  \"\"\" \n",
        "  This function writes the output by executing functions unique_products and total_count.\n",
        "  Args: \n",
        "    write_path_1_2a: output file path for Part 1 task 2 A\n",
        "    write_path_1_2b: output file path for Part 1 task 2 B\n",
        "  Returns:\n",
        "    None\n",
        "  \"\"\"\n",
        "\n",
        "  unique_products_val = unique_products()\n",
        "\n",
        "  total_count_val = total_count()\n",
        "\n",
        "  unique_products_val.saveAsTextFile(write_path_1_2a)\n",
        "\n",
        "  sc.parallelize([\"Count: {}\".format(total_count_val)]).saveAsTextFile(write_path_1_2b)\n",
        "\n",
        "\n",
        "def unique_products():\n",
        "\n",
        "  \"\"\"  \n",
        "  unique_products\n",
        "  This function takes the input by excuting load_groceries_data and returns the unique products from the list.\n",
        "  Args: \n",
        "    None \n",
        "  Returns:\n",
        "    This functions returns unique products from the list \n",
        "  \"\"\"\n",
        "\n",
        "  groceries_data_rdd = load_groceries_data()\n",
        "\n",
        "  unique_products_val = groceries_data_rdd.flatMap(lambda x: x.split(',')).distinct()\n",
        "\n",
        "  return unique_products_val\n",
        "\n",
        " \n",
        "def total_count():\n",
        "\n",
        "  \"\"\"  \n",
        "  This function takes the input by excuting load_groceries_data and returns total count of the list.\n",
        "  Args: \n",
        "    None \n",
        "  Returns:\n",
        "    This function returns total count of values from the list\n",
        "  \"\"\"\n",
        "\n",
        "  groceries_data_rdd = load_groceries_data()\n",
        "\n",
        "  total_count_val = groceries_data_rdd.flatMap(lambda x: x.split(',')).count()\n",
        "\n",
        "  return total_count_val\n",
        "\n",
        "\n",
        "\n",
        "write_out_1_2ab()"
      ],
      "metadata": {
        "id": "xEvkgxY4pYsF"
      },
      "execution_count": 4,
      "outputs": []
    },
    {
      "cell_type": "code",
      "source": [
        "# task 1_3.py\n",
        "# Task 3\n",
        "#==========\n",
        "from pyspark import SparkConf, SparkContext\n",
        "import requests\n",
        "conf = SparkConf().setAppName(\"GroceriesData\")\n",
        "sc = SparkContext.getOrCreate(conf)\n",
        "\n",
        "def write_out_1_3(write_path_1_3 = 'out/out_1_3.txt'):\n",
        "\n",
        "  \"\"\"  \n",
        "  This function writes the output by executing functions item_counts.\n",
        "  Args: \n",
        "    write_path_1_3: output file path for Part 1 task 3\n",
        "  Returns:\n",
        "    None\n",
        "  \"\"\"\n",
        "\n",
        "  item_counts_val = item_counts()\n",
        "  \n",
        "  sc.parallelize(item_counts_val).saveAsTextFile(write_path_1_3)\n",
        "\n",
        "def item_counts():\n",
        "\n",
        "  \"\"\"  \n",
        "  This function loads the csv file to spark rdd api and takes the top 5 products based on the cout of their occurance in the list.\n",
        "  Args: \n",
        "    None\n",
        "  Returns:\n",
        "    This function returns top 5 products in a tuple.\n",
        "  \"\"\"\n",
        "  \n",
        "  groceries_data_rdd = load_groceries_data()\n",
        "\n",
        "  item_counts_val = groceries_data_rdd.flatMap(lambda x: x.split(',')) \\\n",
        "                        .map(lambda x: (x.strip(), 1)) \\\n",
        "                        .reduceByKey(lambda a, b: a + b) \\\n",
        "                        .sortBy(lambda x: -x[1]) \\\n",
        "                        .take(5)\n",
        "  return item_counts_val\n",
        "\n",
        "write_out_1_3()"
      ],
      "metadata": {
        "id": "XB8OJLM0pe0r"
      },
      "execution_count": 5,
      "outputs": []
    }
  ]
}